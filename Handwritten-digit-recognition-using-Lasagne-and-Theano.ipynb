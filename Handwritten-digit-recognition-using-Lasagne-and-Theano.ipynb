{
 "cells": [
  {
   "cell_type": "code",
   "execution_count": 3,
   "metadata": {},
   "outputs": [],
   "source": [
    "import numpy as np"
   ]
  },
  {
   "cell_type": "code",
   "execution_count": 13,
   "metadata": {},
   "outputs": [],
   "source": [
    "with open (\"train-images.idx3-ubyte\",'rb') as f:\n",
    "    X_train = np.frombuffer(f.read(),np.uint8,offset =16)\n",
    "    #This is a boilerplate \n",
    "with open (\"t10k-images.idx3-ubyte\",'rb') as f:\n",
    "    X_test = np.frombuffer(f.read(),np.uint8,offset =16)\n",
    "    #This is a boilerplate \n"
   ]
  },
  {
   "cell_type": "markdown",
   "metadata": {},
   "source": [
    "This has two issues :\n",
    "    its in 1d array\n",
    "    its in bytes "
   ]
  },
  {
   "cell_type": "code",
   "execution_count": 14,
   "metadata": {},
   "outputs": [],
   "source": [
    "#reshaping the data array to image of array of 28*28\n",
    "X_train =X_train.reshape(-1,1,28,28)\n",
    "X_test =X_test.reshape(-1,1,28,28)\n",
    "#first param - by making it -1, the number of images will be inferred from the value of other dimensions and the length of the \n",
    "#input array\n",
    "#2nd param - as it is monochrome image, the channel is 1, if it were RGB then it would have been 3/4.\n",
    "#3rd and 4th are the dimensions of the image.\n",
    "\n",
    "X_train = X_train/np.float32(256)\n",
    "X_test = X_test/np.float32(256)"
   ]
  },
  {
   "cell_type": "code",
   "execution_count": 15,
   "metadata": {},
   "outputs": [],
   "source": [
    "with open (\"train-labels.idx1-ubyte\",'rb') as f:\n",
    "    y_train = np.frombuffer(f.read(),np.uint8,offset =8)\n",
    "    #This is a boilerplate \n",
    "with open (\"t10k-labels.idx1-ubyte\",'rb') as f:\n",
    "    y_test = np.frombuffer(f.read(),np.uint8,offset =8)\n",
    "    #This is a boilerplate "
   ]
  },
  {
   "cell_type": "code",
   "execution_count": 24,
   "metadata": {},
   "outputs": [
    {
     "data": {
      "image/png": "[encoded data removed]",
      "text/plain": [
       "<Figure size 432x288 with 1 Axes>"
      ]
     },
     "metadata": {
      "needs_background": "light"
     },
     "output_type": "display_data"
    }
   ],
   "source": [
    "import matplotlib.pyplot as plt\n",
    "plt.show(plt.imshow(X_train[14][0]))"
   ]
  },
  {
   "cell_type": "markdown",
   "metadata": {},
   "source": [
    "Training the Neural network now"
   ]
  },
  {
   "cell_type": "markdown",
   "metadata": {},
   "source": [
    "Using python packages theano and Lasagne, theano is mathematical packages like numpy aslso called tensors(large dimensional arrays).\n",
    "Lasagne is build on theano support building of NN. Helps you define error func, train NN, etc"
   ]
  },
  {
   "cell_type": "code",
   "execution_count": null,
   "metadata": {},
   "outputs": [],
   "source": [
    "!pip install -r https://raw.githubusercontent.com/Lasagne/Lasagne/master/requirements.txt"
   ]
  },
  {
   "cell_type": "code",
   "execution_count": 28,
   "metadata": {},
   "outputs": [],
   "source": [
    "import lasagne\n",
    "import theano\n",
    "import theano.tensor as T\n",
    "\n",
    "def build_NN(input_var=None):\n",
    "    l_in = lasagne.layers.InputLayer(shape=(None,1,28,28),input_var=input_var)\n",
    "    \n",
    "    #we add a 20% of dropout, this means that we randomly 20% of edges that connect input to next layer, will be dropped.\n",
    "    #to avoid overfitting. Each time we instantiating a different layer, withha dropout\n",
    "    l_in_drop = lasagne.layers.DropoutLayer(l_in,p=0.2)\n",
    "    \n",
    "    l_hid1 = lasagne.layers.DenseLayer(l_in_drop,num_units =800, nonlinearity= lasagne.nonlinearities.rectify,\n",
    "                                      W=lasagne.init.GlorotUniform())\n",
    "    #glorot is used ti intialize random weights\n",
    "    #we will add a dropout of 50% to hidden layer 1\n",
    "    l_hid1_drop = lasagne.layers.DropoutLayer(l_hid1,p=0.5)\n",
    "    \n",
    "    l_hid2=lasagne.layers.DenseLayer(l_hid1_drop,num_units=800,nonlinearity=lasagne.nonlinearities.rectify,\n",
    "                                    W=lasagne.init.GlorotUniform())\n",
    "    \n",
    "    l_hid2_drop = lasagne.layers.DropoutLayer(l_hid2,p=0.5)\n",
    "    \n",
    "    l_out = lasagne.layers.DenseLayer(l_hid2_drop,num_units =10, nonlinearity = lasagne.nonlinearities.softmax)\n",
    "    \n",
    "    return l_out\n",
    "\n",
    "# Now we tell the network how to train itself, it has to sett some weights.\n",
    "# set up some function to tell nn how to train itself\n",
    "\n",
    "input_var = T.tensor4('inputs')\n",
    "target_var = T.ivector('targets')\n",
    "\n",
    "network=build_NN(input_var)\n",
    "\n",
    "# training steps:\n",
    "#  1. compute an error function\n",
    "prediction = lasagne.layers.get_output(network)\n",
    "loss = lasagne.objectives.categorical_crossentropy(prediction,target_var)\n",
    "\n",
    "loss= loss.mean()\n",
    "\n",
    "#b. we tell how to update all its weights based on the value of error funtion,this is based on stochastic gradient descent\n",
    "params = lasagne.layers.get_all_params(network, trainable = True)\n",
    "updates = lasagne.updates.nesterov_momentum(loss,params, learning_rate=0.01, momentum=0.9)\n",
    "\n",
    "#\n",
    "train_fn = theano.function([input_var,target_var],loss, updates=updates)"
   ]
  },
  {
   "cell_type": "code",
   "execution_count": null,
   "metadata": {},
   "outputs": [],
   "source": [
    "num_training_steps = 10\n",
    "\n",
    "for step in range(num_training_steps):\n",
    "    train_err = train_fn(X_train,y_train)\n",
    "    print(\"current step is \"+str(step))"
   ]
  },
  {
   "cell_type": "code",
   "execution_count": null,
   "metadata": {},
   "outputs": [],
   "source": [
    "# check with the testing set, starting with 1 image\n",
    "test_prediction = lasagne.layers.get_output(network)\n",
    "val_fn = theano.function([input_var],test_prediction)\n",
    "\n",
    "val_fn([X_test[0]])"
   ]
  },
  {
   "cell_type": "code",
   "execution_count": null,
   "metadata": {},
   "outputs": [],
   "source": [
    "y_test[0]"
   ]
  },
  {
   "cell_type": "code",
   "execution_count": null,
   "metadata": {},
   "outputs": [],
   "source": [
    "#now all together\n",
    "test_prediction = lasagne.layers.get_output(network)\n"
   ]
  }
 ],
 "metadata": {
  "kernelspec": {
   "display_name": "Python 3",
   "language": "python",
   "name": "python3"
  },
  "language_info": {
   "codemirror_mode": {
    "name": "ipython",
    "version": 3
   },
   "file_extension": ".py",
   "mimetype": "text/x-python",
   "name": "python",
   "nbconvert_exporter": "python",
   "pygments_lexer": "ipython3",
   "version": "3.8.3"
  }
 },
 "nbformat": 4,
 "nbformat_minor": 4
}
